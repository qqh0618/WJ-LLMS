{
 "cells": [
  {
   "cell_type": "code",
   "execution_count": 1,
   "metadata": {
    "collapsed": true
   },
   "outputs": [],
   "source": [
    "import random\n",
    "import re  # 用于字符串正则表达匹配\n",
    "\n",
    "import sys\n",
    "import numpy"
   ]
  },
  {
   "cell_type": "markdown",
   "source": [
    "词向量通常被用作下游NLP任务的基本组件，例如问答、文本生成、翻译等，因此建立一些关于其优缺点的直觉非常重要。在这里，您将探索两种类型的词向量：一种是从共现矩阵中导出的，另一种是通过GloVe导出的。\n",
    "\n",
    "术语注释：术语“词向量”(word vector)和“词嵌入” (word embeddings)经常互换使用。“嵌入”一词是指我们在低维空间中编码单词含义的各个方面。正如维基百科所述，“从概念上讲，它涉及从每个单词一个维度的空间到一个维度低得多的连续向量空间的数学嵌入”。"
   ],
   "metadata": {
    "collapsed": false
   }
  },
  {
   "cell_type": "markdown",
   "source": [
    "在NLP中，我们通常使用<START>和<END>标记来标记句子、段落或文档的开始和结束。这些标记包含在共现计数中，封装了每个文档，例如：“<START>所有闪闪发光的都不是金子<END>”。"
   ],
   "metadata": {
    "collapsed": false
   }
  },
  {
   "cell_type": "code",
   "execution_count": null,
   "outputs": [],
   "source": [
    "START_TOKEN = '<START>'  # 开始 标识符\n",
    "END_TOKEN = '<END>'  # 结束 标识符\n",
    "NUM_SAMPLES = 150\n",
    "\n",
    "def load_dataset():\n",
    "\n",
    "\n",
    "def read_corpus():\n",
    "    \"\"\" Read files from the Large Movie Review Dataset.\n",
    "        Params:\n",
    "            category (string): category name\n",
    "        Return:\n",
    "            list of lists, with words from each of the processed files\n",
    "    \"\"\"\n",
    "    files = imdb_dataset[\"train\"][\"text\"][:NUM_SAMPLES]\n",
    "    return [[START_TOKEN] + [re.sub(r'[^\\w]', '', w.lower()) for w in f.split(\" \")] + [END_TOKEN] for f in files]"
   ],
   "metadata": {
    "collapsed": false
   }
  }
 ],
 "metadata": {
  "kernelspec": {
   "display_name": "Python 3",
   "language": "python",
   "name": "python3"
  },
  "language_info": {
   "codemirror_mode": {
    "name": "ipython",
    "version": 2
   },
   "file_extension": ".py",
   "mimetype": "text/x-python",
   "name": "python",
   "nbconvert_exporter": "python",
   "pygments_lexer": "ipython2",
   "version": "2.7.6"
  }
 },
 "nbformat": 4,
 "nbformat_minor": 0
}
